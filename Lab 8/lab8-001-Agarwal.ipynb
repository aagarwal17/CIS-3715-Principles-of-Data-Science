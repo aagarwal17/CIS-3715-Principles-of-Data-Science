{
 "cells": [
  {
   "cell_type": "markdown",
   "metadata": {},
   "source": [
    "# Lab 8: PageRank"
   ]
  },
  {
   "cell_type": "markdown",
   "metadata": {},
   "source": [
    "In this assignment, we will learn how to compute the importance score of nodes in a graph by using the PageRank method."
   ]
  },
  {
   "cell_type": "markdown",
   "metadata": {},
   "source": [
    "## Generate a graph\n",
    "\n",
    "Here, we use [NetworkX](https://networkx.org/) to generate a directed graph. Then, we will apply PageRank method to this graph. "
   ]
  },
  {
   "cell_type": "code",
   "execution_count": 50,
   "metadata": {},
   "outputs": [
    {
     "data": {
      "image/png": "[encoded data removed]",
      "text/plain": [
       "<Figure size 432x288 with 1 Axes>"
      ]
     },
     "metadata": {},
     "output_type": "display_data"
    },
    {
     "name": "stdout",
     "output_type": "stream",
     "text": [
      "#nodes: 6, #edges: 14\n",
      "node-0, #in_degrees 1, #out_degrees 1\n",
      "node-1, #in_degrees 4, #out_degrees 3\n",
      "node-2, #in_degrees 3, #out_degrees 3\n",
      "node-3, #in_degrees 2, #out_degrees 3\n",
      "node-4, #in_degrees 2, #out_degrees 4\n",
      "node-5, #in_degrees 2, #out_degrees 0\n",
      "[[0 1 0 0 0 0]\n",
      " [0 0 1 1 0 1]\n",
      " [1 1 0 0 1 0]\n",
      " [0 1 1 0 1 0]\n",
      " [0 1 1 1 0 1]\n",
      " [0 0 0 0 0 0]]\n"
     ]
    }
   ],
   "source": [
    "import networkx as nx\n",
    "import numpy as np\n",
    "import matplotlib.pyplot as plt\n",
    "\n",
    "\n",
    "# generate a directed graph from the given adjacency matrix\n",
    "A = np.array([[0, 1, 0, 0, 0, 0],\n",
    "             [0, 0, 1, 1, 0, 1],\n",
    "             [1, 1, 0, 0, 1, 0],\n",
    "             [0, 1, 1, 0, 1, 0],\n",
    "             [0, 1, 1, 1, 0, 1],\n",
    "             [0, 0, 0, 0, 0, 0]])\n",
    "\n",
    "D = nx.from_numpy_matrix(A, create_using=nx.DiGraph)\n",
    "\n",
    "nx.draw(D, with_labels=True, font_weight='bold')\n",
    "plt.show()\n",
    "\n",
    "print('#nodes: {}, #edges: {}'.format(D.number_of_nodes(), D.number_of_edges()))\n",
    "\n",
    "# output the in_degrees and out_degrees of each node\n",
    "for idx in range(D.number_of_nodes()):\n",
    "    print('node-{}, #in_degrees {}, #out_degrees {}'.format(idx, D.in_degree(idx), D.out_degree(idx)))\n",
    "\n",
    "# get the adjacency matrix of graph D\n",
    "Adj = nx.adjacency_matrix(D).todense()\n",
    "print(Adj)"
   ]
  },
  {
   "cell_type": "markdown",
   "metadata": {},
   "source": [
    "## Task 1. Build the transition matrix from the adjacency matrix"
   ]
  },
  {
   "cell_type": "code",
   "execution_count": 51,
   "metadata": {},
   "outputs": [
    {
     "name": "stdout",
     "output_type": "stream",
     "text": [
      "The transition matrix is: \n",
      " [[0.     0.25   0.     0.     0.     0.    ]\n",
      " [0.     0.     0.3333 0.5    0.     0.5   ]\n",
      " [1.     0.25   0.     0.     0.5    0.    ]\n",
      " [0.     0.25   0.3333 0.     0.5    0.    ]\n",
      " [0.     0.25   0.3333 0.5    0.     0.5   ]\n",
      " [0.     0.     0.     0.     0.     0.    ]]\n"
     ]
    }
   ],
   "source": [
    "# your code to get the transition matrix M\n",
    "M = Adj/Adj.sum(axis=0)\n",
    "np.set_printoptions(precision=4)\n",
    "print(\"The transition matrix is: \\n\", M)"
   ]
  },
  {
   "cell_type": "markdown",
   "metadata": {},
   "source": [
    "## Task 2. Use the power iteration method to compute the importance score of nodes\n",
    "\n",
    "\n",
    "* Initialization: initialize the importance score vector $r_{0}=[1/6, 1/6, 1/6, 1/6, 1/6, 1/6]$.\n",
    "* Iterate: $r_{t+1} =  M r_{t}$\n",
    "* Stop when $\\|r_{t+1} - r_{t}\\|_1\\leq \\epsilon$\n"
   ]
  },
  {
   "cell_type": "code",
   "execution_count": 52,
   "metadata": {},
   "outputs": [
    {
     "name": "stdout",
     "output_type": "stream",
     "text": [
      "Initial Importance Score Vector: \n",
      " [[0.1667]\n",
      " [0.1667]\n",
      " [0.1667]\n",
      " [0.1667]\n",
      " [0.1667]\n",
      " [0.1667]]\n",
      "r_t+1: \n",
      " [[0.0417]\n",
      " [0.2222]\n",
      " [0.2917]\n",
      " [0.1806]\n",
      " [0.2639]\n",
      " [0.    ]]\n",
      "Initial l1norm:  0.5833333333333334\n",
      "New r_t Vector: \n",
      " [[0.0417]\n",
      " [0.2222]\n",
      " [0.2917]\n",
      " [0.1806]\n",
      " [0.2639]\n",
      " [0.    ]]\n",
      "New r_t+1 Vector: \n",
      " [[0.0556]\n",
      " [0.1875]\n",
      " [0.2292]\n",
      " [0.2847]\n",
      " [0.2431]\n",
      " [0.    ]]\n",
      "Value of l1norm:  0.23611111111111113\n",
      "New r_t Vector: \n",
      " [[0.0556]\n",
      " [0.1875]\n",
      " [0.2292]\n",
      " [0.2847]\n",
      " [0.2431]\n",
      " [0.    ]]\n",
      "New r_t+1 Vector: \n",
      " [[0.0469]\n",
      " [0.2188]\n",
      " [0.224 ]\n",
      " [0.2448]\n",
      " [0.2656]\n",
      " [0.    ]]\n",
      "Value of l1norm:  0.10763888888888887\n",
      "New r_t Vector: \n",
      " [[0.0469]\n",
      " [0.2188]\n",
      " [0.224 ]\n",
      " [0.2448]\n",
      " [0.2656]\n",
      " [0.    ]]\n",
      "New r_t+1 Vector: \n",
      " [[0.0547]\n",
      " [0.197 ]\n",
      " [0.2344]\n",
      " [0.2622]\n",
      " [0.2517]\n",
      " [0.    ]]\n",
      "Value of l1norm:  0.07118055555555558\n",
      "Importance Score of Nodes: \n",
      " [[0.0547]\n",
      " [0.197 ]\n",
      " [0.2344]\n",
      " [0.2622]\n",
      " [0.2517]\n",
      " [0.    ]]\n"
     ]
    }
   ],
   "source": [
    "#The Teaching Assistant said we could choose a value 𝜖 ourselves. Thus, I will choose a value of 0.1 for this\n",
    "\n",
    "#This is the initial importance score vector r_0, labeled as r_t for future calculations:\n",
    "r_t = (np.array([[1/6,1/6,1/6,1/6,1/6,1/6]])).T\n",
    "print(\"Initial Importance Score Vector: \\n\", r_t)\n",
    "\n",
    "#Iterating by finding the dot product between the transition matrix, M, and r_t\n",
    "r_tplus1 = np.dot(M,r_t)\n",
    "print(\"r_t+1: \\n\", r_tplus1)\n",
    "\n",
    "#Computing the L1 norm of r_t+1 - r_t:\n",
    "l1norm = np.linalg.norm((r_tplus1 - r_t), ord = 1)\n",
    "print(\"Initial l1norm: \", l1norm)\n",
    "\n",
    "#Choosing a 𝜖 of 0.1, we go while the l1norm is greater than 0.1. When the l1norm is less than or equal to 0.1, we stop, as instructed and required by the power iteration method\n",
    "while l1norm > 0.1:\n",
    "    r_t = (r_tplus1)\n",
    "    print(\"New r_t Vector: \\n\", r_t)\n",
    "    r_tplus1 = np.dot(M, r_t)\n",
    "    print(\"New r_t+1 Vector: \\n\", r_tplus1)\n",
    "    l1norm = np.linalg.norm((r_tplus1 - r_t), ord = 1)\n",
    "    print(\"Value of l1norm: \", l1norm)\n",
    "    \n",
    "print(\"Importance Score of Nodes: \\n\", r_tplus1)\n",
    "    "
   ]
  },
  {
   "cell_type": "markdown",
   "metadata": {},
   "source": [
    "## Task 3. In the given graph, are there any dead ends?\n",
    "\n",
    "If there are some dead ends in the given graph, please use the Random Teleports method to re-compute the importance score. In particular, please construct a new transition matrix as follows,\n",
    "\n",
    "$$G = \\beta M + (1-\\beta)[\\frac{1}{6}]_{6\\times 6}$$\n",
    "\n",
    "Here, $0<\\beta<1$. Apply the power iteration method to $G$. Compare the obtained importance score with that obtained in Task 2. "
   ]
  },
  {
   "cell_type": "code",
   "execution_count": 55,
   "metadata": {},
   "outputs": [
    {
     "name": "stdout",
     "output_type": "stream",
     "text": [
      "node-0, #out_degrees 1\n",
      "node-1, #out_degrees 3\n",
      "node-2, #out_degrees 3\n",
      "node-3, #out_degrees 3\n",
      "node-4, #out_degrees 4\n",
      "node-5, #out_degrees 0\n",
      "The new Transition Matrix, G, is: \n",
      " [[0.025  0.2375 0.025  0.025  0.025  0.025 ]\n",
      " [0.025  0.025  0.3083 0.45   0.025  0.45  ]\n",
      " [0.875  0.2375 0.025  0.025  0.45   0.025 ]\n",
      " [0.025  0.2375 0.3083 0.025  0.45   0.025 ]\n",
      " [0.025  0.2375 0.3083 0.45   0.025  0.45  ]\n",
      " [0.025  0.025  0.025  0.025  0.025  0.025 ]]\n",
      "Initial Importance Score Vector: \n",
      " [[0.1667]\n",
      " [0.1667]\n",
      " [0.1667]\n",
      " [0.1667]\n",
      " [0.1667]\n",
      " [0.1667]]\n",
      "r_t+1: \n",
      " [[0.0604]\n",
      " [0.2139]\n",
      " [0.2729]\n",
      " [0.1785]\n",
      " [0.2493]\n",
      " [0.025 ]]\n",
      "Initial l1norm:  0.4958333333333334\n",
      "New r_t Vector: \n",
      " [[0.0604]\n",
      " [0.2139]\n",
      " [0.2729]\n",
      " [0.1785]\n",
      " [0.2493]\n",
      " [0.025 ]]\n",
      "New r_t+1 Vector: \n",
      " [[0.0705]\n",
      " [0.1888]\n",
      " [0.2278]\n",
      " [0.2537]\n",
      " [0.2343]\n",
      " [0.025 ]]\n",
      "Value of l1norm:  0.17059027777777788\n",
      "New r_t Vector: \n",
      " [[0.0705]\n",
      " [0.1888]\n",
      " [0.2278]\n",
      " [0.2537]\n",
      " [0.2343]\n",
      " [0.025 ]]\n",
      "New r_t+1 Vector: \n",
      " [[0.0651]\n",
      " [0.208 ]\n",
      " [0.2246]\n",
      " [0.2292]\n",
      " [0.2481]\n",
      " [0.025 ]]\n",
      "Value of l1norm:  0.06610373263888886\n",
      "\n",
      "Importance Score of Nodes when using a transition matrix 'G': \n",
      " [[0.0651]\n",
      " [0.208 ]\n",
      " [0.2246]\n",
      " [0.2292]\n",
      " [0.2481]\n",
      " [0.025 ]]\n",
      "\n",
      "Importance Score of Nodes when using a transition matrix 'M': \n",
      " [[0.0547]\n",
      " [0.197 ]\n",
      " [0.2344]\n",
      " [0.2622]\n",
      " [0.2517]\n",
      " [0.    ]]\n"
     ]
    }
   ],
   "source": [
    "#Dead ends occur when a node has no outlinks/has an out-degree of 0\n",
    "for idx in range(D.number_of_nodes()):\n",
    "    print('node-{}, #out_degrees {}'.format(idx, D.out_degree(idx)))\n",
    "#Since Node 5 has an out-degree of 0, it is a dead end! We will use Random Teleports to re-compute the important score. \n",
    "\n",
    "#Common values for 𝛽 are between .8 and .9. Thus, I will choose a value of .85\n",
    "𝛽 = .85\n",
    "G = 𝛽*M + (1-𝛽)*(np.full((6, 6), (1/6) ))\n",
    "print(\"The new Transition Matrix, G, is: \\n\", G)\n",
    "\n",
    "#With our new transition matrix, we will follow the same procedure performed in 'Task 2' to obtain a new important score:\n",
    "\n",
    "\n",
    "#The Teaching Assistant said we could choose a value 𝜖 ourselves. Thus, I will choose a value of 0.1 for this, which is the same value I used for Task 2\n",
    "\n",
    "#This is the initial importance score vector r_0, labeled as G_r_t for future calculations:\n",
    "G_r_t = (np.array([[1/6,1/6,1/6,1/6,1/6,1/6]])).T\n",
    "print(\"Initial Importance Score Vector: \\n\", G_r_t)\n",
    "\n",
    "#Iterating by finding the dot product between the transition matrix, G, and G_r_t\n",
    "G_r_tplus1 = np.dot(G,G_r_t)\n",
    "print(\"r_t+1: \\n\", G_r_tplus1)\n",
    "\n",
    "#Computing the L1 norm of r_t+1 - r_t:\n",
    "l1norm = np.linalg.norm((G_r_tplus1 - G_r_t), ord = 1)\n",
    "print(\"Initial l1norm: \", l1norm)\n",
    "\n",
    "#Choosing a 𝜖 of 0.1, we go while the l1norm is greater than 0.1. When the l1norm is less than or equal to 0.1, we stop, as instructed and required by the power iteration method\n",
    "while l1norm > 0.1:\n",
    "    G_r_t = (G_r_tplus1)\n",
    "    print(\"New r_t Vector: \\n\", G_r_t)\n",
    "    G_r_tplus1 = np.dot(G, G_r_t)\n",
    "    print(\"New r_t+1 Vector: \\n\", G_r_tplus1)\n",
    "    l1norm = np.linalg.norm((G_r_tplus1 - G_r_t), ord = 1)\n",
    "    print(\"Value of l1norm: \", l1norm)\n",
    "    \n",
    "print(\"\\nImportance Score of Nodes when using a transition matrix 'G': \\n\", G_r_tplus1)\n",
    "print(\"\\nImportance Score of Nodes when using a transition matrix 'M': \\n\", r_tplus1)\n",
    "\n",
    "#Comparing the obtained importance score to the one obtained in part 2, one notices that, for both scores, the sums of the numbers add to 1 (as they should).\n",
    "#However, since we removed the dead ends in this iteration, there is no longer an importance score of '0' for node 5, as is seen for the importance score of node 5 in part 2 (when the dead end was not adjusted for).\n",
    "#Since the obtained importance score using transition matrix G had to, in a sense, increase one of the values for the nodes, all the other values for nodes in the importance score would correspondly decrease slightly in comparison to what they were before (in part 2)."
   ]
  }
 ],
 "metadata": {
  "kernelspec": {
   "display_name": "Python 3",
   "language": "python",
   "name": "python3"
  },
  "language_info": {
   "codemirror_mode": {
    "name": "ipython",
    "version": 3
   },
   "file_extension": ".py",
   "mimetype": "text/x-python",
   "name": "python",
   "nbconvert_exporter": "python",
   "pygments_lexer": "ipython3",
   "version": "3.7.9"
  }
 },
 "nbformat": 4,
 "nbformat_minor": 2
}
