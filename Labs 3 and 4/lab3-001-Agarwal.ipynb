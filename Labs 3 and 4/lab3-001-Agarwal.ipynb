{
 "cells": [
  {
   "cell_type": "markdown",
   "metadata": {},
   "source": [
    "# Lab 3: Data Preprocessing"
   ]
  },
  {
   "cell_type": "markdown",
   "metadata": {},
   "source": [
    "In this assignment, we will learn how to explore the raw data and preprocess it. \n",
    "\n",
    "The dataset we are going to exlore is an insurance data. It provides different features of each user as follows:\n",
    "* age: age of the user\n",
    "* sex: gender of the user\n",
    "* bmi: body mass index, providing an understanding of body\n",
    "* children: number of children covered by health insurance / number of dependents\n",
    "* smoker: smoker or not\n",
    "* region: the user's residential area in the US, northeast, southeast, southwest, northwest.\n",
    "\n",
    "Additionally, the medical cost of each user is also provided: \n",
    "* charges: the medical cost \n",
    "\n",
    "Please follow Lecture 5_data_understanding and Lecture 6_data_preprocessing to complete following questions. "
   ]
  },
  {
   "cell_type": "markdown",
   "metadata": {},
   "source": [
    "### Q1. Load data with Pandas and output the basic information of this dataset, such as the features and their data types.  Which features are numerical features and which users are categorical features?\n"
   ]
  },
  {
   "cell_type": "code",
   "execution_count": 48,
   "metadata": {},
   "outputs": [
    {
     "name": "stdout",
     "output_type": "stream",
     "text": [
      "<class 'pandas.core.frame.DataFrame'>\n",
      "RangeIndex: 1338 entries, 0 to 1337\n",
      "Data columns (total 7 columns):\n",
      " #   Column    Non-Null Count  Dtype  \n",
      "---  ------    --------------  -----  \n",
      " 0   age       1338 non-null   int64  \n",
      " 1   sex       1338 non-null   object \n",
      " 2   bmi       1338 non-null   float64\n",
      " 3   children  1338 non-null   int64  \n",
      " 4   smoker    1338 non-null   object \n",
      " 5   region    1338 non-null   object \n",
      " 6   charges   1338 non-null   float64\n",
      "dtypes: float64(2), int64(2), object(3)\n",
      "memory usage: 73.3+ KB\n"
     ]
    }
   ],
   "source": [
    "# your code\n",
    "\n",
    "import pandas as pd\n",
    "df = pd.read_csv('insurance.csv')\n",
    "\n",
    "#describe() provides statistics of numerical features. Commented out for now\n",
    "#df.describe()\n",
    "\n",
    "#info() outputs basic information of the data set, including features and their data types\n",
    "df.info()\n",
    "\n",
    "#Print statements of which features are numerical and which are categorical. Commented out for now\n",
    "#print('The numerical features are age, bmi, children, and charges')\n",
    "#print('The categorical features are sex, smoker, and region')"
   ]
  },
  {
   "cell_type": "markdown",
   "metadata": {},
   "source": [
    "### Q2. Check whether there are missing values in this dataset."
   ]
  },
  {
   "cell_type": "code",
   "execution_count": 49,
   "metadata": {},
   "outputs": [
    {
     "name": "stdout",
     "output_type": "stream",
     "text": [
      "(1338, 7)\n"
     ]
    },
    {
     "data": {
      "text/plain": [
       "age         0\n",
       "sex         0\n",
       "bmi         0\n",
       "children    0\n",
       "smoker      0\n",
       "region      0\n",
       "charges     0\n",
       "dtype: int64"
      ]
     },
     "execution_count": 49,
     "metadata": {},
     "output_type": "execute_result"
    }
   ],
   "source": [
    "# your code\n",
    "print(df.shape)\n",
    "df.isnull().sum()\n",
    "#Since the sum of the null values for each feature is zero foe every feature, there are no missing values in this dataset"
   ]
  },
  {
   "cell_type": "markdown",
   "metadata": {},
   "source": [
    "### Q3. Visualize all numerical features with histogram plot to see the distribution of each numerical feature. \n"
   ]
  },
  {
   "cell_type": "code",
   "execution_count": 50,
   "metadata": {},
   "outputs": [
    {
     "data": {
      "image/png": "[encoded data removed]",
      "text/plain": [
       "<Figure size 1440x1080 with 4 Axes>"
      ]
     },
     "metadata": {
      "needs_background": "light"
     },
     "output_type": "display_data"
    }
   ],
   "source": [
    "# your code\n",
    "import matplotlib.pyplot as plt\n",
    "\n",
    "#hist() allows one to see the distribution of only the numerical features (automatic) with a histogram plot\n",
    "#the number of bins set is up to the user. It appears 50 bins does a good job of displaying the data.\n",
    "df.hist(bins = 50, figsize = (20,15))\n",
    "plt.show()\n"
   ]
  },
  {
   "cell_type": "markdown",
   "metadata": {},
   "source": [
    "### Q4. Use corr() function of Pandas to show the correlation between different numerical features"
   ]
  },
  {
   "cell_type": "code",
   "execution_count": 51,
   "metadata": {},
   "outputs": [
    {
     "data": {
      "text/html": [
       "<style  type=\"text/css\" >\n",
       "#T_1edbbf48_6a24_11eb_b330_dcfb48d614f0row0_col0,#T_1edbbf48_6a24_11eb_b330_dcfb48d614f0row1_col1,#T_1edbbf48_6a24_11eb_b330_dcfb48d614f0row2_col2,#T_1edbbf48_6a24_11eb_b330_dcfb48d614f0row3_col3{\n",
       "            background-color:  #023858;\n",
       "            color:  #f1f1f1;\n",
       "        }#T_1edbbf48_6a24_11eb_b330_dcfb48d614f0row0_col1{\n",
       "            background-color:  #f0eaf4;\n",
       "            color:  #000000;\n",
       "        }#T_1edbbf48_6a24_11eb_b330_dcfb48d614f0row0_col2{\n",
       "            background-color:  #fbf3f9;\n",
       "            color:  #000000;\n",
       "        }#T_1edbbf48_6a24_11eb_b330_dcfb48d614f0row0_col3{\n",
       "            background-color:  #d1d2e6;\n",
       "            color:  #000000;\n",
       "        }#T_1edbbf48_6a24_11eb_b330_dcfb48d614f0row1_col0{\n",
       "            background-color:  #f5eef6;\n",
       "            color:  #000000;\n",
       "        }#T_1edbbf48_6a24_11eb_b330_dcfb48d614f0row1_col2,#T_1edbbf48_6a24_11eb_b330_dcfb48d614f0row2_col0,#T_1edbbf48_6a24_11eb_b330_dcfb48d614f0row2_col1,#T_1edbbf48_6a24_11eb_b330_dcfb48d614f0row2_col3{\n",
       "            background-color:  #fff7fb;\n",
       "            color:  #000000;\n",
       "        }#T_1edbbf48_6a24_11eb_b330_dcfb48d614f0row1_col3{\n",
       "            background-color:  #e9e5f1;\n",
       "            color:  #000000;\n",
       "        }#T_1edbbf48_6a24_11eb_b330_dcfb48d614f0row3_col0{\n",
       "            background-color:  #cacee5;\n",
       "            color:  #000000;\n",
       "        }#T_1edbbf48_6a24_11eb_b330_dcfb48d614f0row3_col1{\n",
       "            background-color:  #dedcec;\n",
       "            color:  #000000;\n",
       "        }#T_1edbbf48_6a24_11eb_b330_dcfb48d614f0row3_col2{\n",
       "            background-color:  #f7f0f7;\n",
       "            color:  #000000;\n",
       "        }</style><table id=\"T_1edbbf48_6a24_11eb_b330_dcfb48d614f0\" ><thead>    <tr>        <th class=\"blank level0\" ></th>        <th class=\"col_heading level0 col0\" >age</th>        <th class=\"col_heading level0 col1\" >bmi</th>        <th class=\"col_heading level0 col2\" >children</th>        <th class=\"col_heading level0 col3\" >charges</th>    </tr></thead><tbody>\n",
       "                <tr>\n",
       "                        <th id=\"T_1edbbf48_6a24_11eb_b330_dcfb48d614f0level0_row0\" class=\"row_heading level0 row0\" >age</th>\n",
       "                        <td id=\"T_1edbbf48_6a24_11eb_b330_dcfb48d614f0row0_col0\" class=\"data row0 col0\" >1.000000</td>\n",
       "                        <td id=\"T_1edbbf48_6a24_11eb_b330_dcfb48d614f0row0_col1\" class=\"data row0 col1\" >0.109272</td>\n",
       "                        <td id=\"T_1edbbf48_6a24_11eb_b330_dcfb48d614f0row0_col2\" class=\"data row0 col2\" >0.042469</td>\n",
       "                        <td id=\"T_1edbbf48_6a24_11eb_b330_dcfb48d614f0row0_col3\" class=\"data row0 col3\" >0.299008</td>\n",
       "            </tr>\n",
       "            <tr>\n",
       "                        <th id=\"T_1edbbf48_6a24_11eb_b330_dcfb48d614f0level0_row1\" class=\"row_heading level0 row1\" >bmi</th>\n",
       "                        <td id=\"T_1edbbf48_6a24_11eb_b330_dcfb48d614f0row1_col0\" class=\"data row1 col0\" >0.109272</td>\n",
       "                        <td id=\"T_1edbbf48_6a24_11eb_b330_dcfb48d614f0row1_col1\" class=\"data row1 col1\" >1.000000</td>\n",
       "                        <td id=\"T_1edbbf48_6a24_11eb_b330_dcfb48d614f0row1_col2\" class=\"data row1 col2\" >0.012759</td>\n",
       "                        <td id=\"T_1edbbf48_6a24_11eb_b330_dcfb48d614f0row1_col3\" class=\"data row1 col3\" >0.198341</td>\n",
       "            </tr>\n",
       "            <tr>\n",
       "                        <th id=\"T_1edbbf48_6a24_11eb_b330_dcfb48d614f0level0_row2\" class=\"row_heading level0 row2\" >children</th>\n",
       "                        <td id=\"T_1edbbf48_6a24_11eb_b330_dcfb48d614f0row2_col0\" class=\"data row2 col0\" >0.042469</td>\n",
       "                        <td id=\"T_1edbbf48_6a24_11eb_b330_dcfb48d614f0row2_col1\" class=\"data row2 col1\" >0.012759</td>\n",
       "                        <td id=\"T_1edbbf48_6a24_11eb_b330_dcfb48d614f0row2_col2\" class=\"data row2 col2\" >1.000000</td>\n",
       "                        <td id=\"T_1edbbf48_6a24_11eb_b330_dcfb48d614f0row2_col3\" class=\"data row2 col3\" >0.067998</td>\n",
       "            </tr>\n",
       "            <tr>\n",
       "                        <th id=\"T_1edbbf48_6a24_11eb_b330_dcfb48d614f0level0_row3\" class=\"row_heading level0 row3\" >charges</th>\n",
       "                        <td id=\"T_1edbbf48_6a24_11eb_b330_dcfb48d614f0row3_col0\" class=\"data row3 col0\" >0.299008</td>\n",
       "                        <td id=\"T_1edbbf48_6a24_11eb_b330_dcfb48d614f0row3_col1\" class=\"data row3 col1\" >0.198341</td>\n",
       "                        <td id=\"T_1edbbf48_6a24_11eb_b330_dcfb48d614f0row3_col2\" class=\"data row3 col2\" >0.067998</td>\n",
       "                        <td id=\"T_1edbbf48_6a24_11eb_b330_dcfb48d614f0row3_col3\" class=\"data row3 col3\" >1.000000</td>\n",
       "            </tr>\n",
       "    </tbody></table>"
      ],
      "text/plain": [
       "<pandas.io.formats.style.Styler at 0x27354de08e0>"
      ]
     },
     "execution_count": 51,
     "metadata": {},
     "output_type": "execute_result"
    }
   ],
   "source": [
    "# your code\n",
    "\n",
    "#corr function shows the correlation of only the numerical features (automatic)\n",
    "hcorr = df.corr()\n",
    "#Setting a style for the background in hcorr helps to make the correlation more visible\n",
    "hcorr.style.background_gradient()"
   ]
  },
  {
   "cell_type": "markdown",
   "metadata": {},
   "source": [
    "### Q5. For all categorical features, use bar plot to visualize the number of users within each category."
   ]
  },
  {
   "cell_type": "code",
   "execution_count": 52,
   "metadata": {},
   "outputs": [
    {
     "data": {
      "image/png": "[encoded data removed]",
      "text/plain": [
       "<Figure size 432x288 with 1 Axes>"
      ]
     },
     "metadata": {
      "needs_background": "light"
     },
     "output_type": "display_data"
    },
    {
     "data": {
      "image/png": "[encoded data removed]",
      "text/plain": [
       "<Figure size 432x288 with 1 Axes>"
      ]
     },
     "metadata": {
      "needs_background": "light"
     },
     "output_type": "display_data"
    },
    {
     "data": {
      "image/png": "[encoded data removed]",
      "text/plain": [
       "<Figure size 432x288 with 1 Axes>"
      ]
     },
     "metadata": {
      "needs_background": "light"
     },
     "output_type": "display_data"
    }
   ],
   "source": [
    "# your code\n",
    "\n",
    "df['sex'].value_counts().plot(kind = 'bar')\n",
    "plt.title('Bar Graph of Insurance Data for Male vs Female Users')\n",
    "plt.show()\n",
    "\n",
    "df['smoker'].value_counts().plot(kind = 'bar')\n",
    "plt.title('Bar Graph of Insurance Data for Smoker vs Non-Smoker Users')\n",
    "plt.show()\n",
    "\n",
    "df['region'].value_counts().plot(kind = 'bar')\n",
    "plt.title('Bar Graph of Insurance Data for Users by Region')\n",
    "plt.show()"
   ]
  },
  {
   "cell_type": "markdown",
   "metadata": {},
   "source": [
    "### Q6. Convert all categorical features into numerical features with Label Encoding or One-Hot Encoding"
   ]
  },
  {
   "cell_type": "code",
   "execution_count": 53,
   "metadata": {},
   "outputs": [
    {
     "name": "stdout",
     "output_type": "stream",
     "text": [
      "male      676\n",
      "female    662\n",
      "Name: sex, dtype: int64\n",
      "1    676\n",
      "0    662\n",
      "Name: sex, dtype: int64\n",
      "no     1064\n",
      "yes     274\n",
      "Name: smoker, dtype: int64\n",
      "0    1064\n",
      "1     274\n",
      "Name: smoker, dtype: int64\n",
      "southeast    364\n",
      "southwest    325\n",
      "northwest    325\n",
      "northeast    324\n",
      "Name: region, dtype: int64\n",
      "2    364\n",
      "3    325\n",
      "1    325\n",
      "0    324\n",
      "Name: region, dtype: int64\n"
     ]
    }
   ],
   "source": [
    "# your code\n",
    "#I will use label encoding, where each categorical feature is converted into an integer value\n",
    "from sklearn.preprocessing import LabelEncoder\n",
    "\n",
    "#For gender:\n",
    "#This print statement shows the initial labels and counts for sex\n",
    "print(df['sex'].value_counts())\n",
    "labelencoderSex = LabelEncoder()\n",
    "df['sex'] = labelencoderSex.fit_transform(df['sex'])\n",
    "#This print statement shows that male is now represented by 1 and female 0\n",
    "print(df['sex'].value_counts())\n",
    "\n",
    "#For smoker:\n",
    "#This print statement shows the initial labels and counts for smoker\n",
    "print(df['smoker'].value_counts())\n",
    "labelencoderSmoker = LabelEncoder()\n",
    "df['smoker'] = labelencoderSmoker.fit_transform(df['smoker'])\n",
    "#This print statement shows that yes is now represented by 1 and no 0\n",
    "print(df['smoker'].value_counts())\n",
    "\n",
    "#For region:\n",
    "#This print statement shows the initial labels and counts for region\n",
    "print(df['region'].value_counts())\n",
    "labelencoderRegion = LabelEncoder()\n",
    "df['region'] = labelencoderRegion.fit_transform(df['region'])\n",
    "#This print statement shows that southeast is now represented by 2, soutwest by 3, northwest by 1, and northeast by 0\n",
    "print(df['region'].value_counts())"
   ]
  },
  {
   "cell_type": "markdown",
   "metadata": {},
   "source": [
    "### Q7. Normalize all numerical features"
   ]
  },
  {
   "cell_type": "code",
   "execution_count": 58,
   "metadata": {},
   "outputs": [
    {
     "name": "stdout",
     "output_type": "stream",
     "text": [
      "Original Data\n",
      "[[1.9000e+01 0.0000e+00 2.7900e+01 ... 1.0000e+00 3.0000e+00 1.6885e+04]\n",
      " [1.8000e+01 1.0000e+00 3.3770e+01 ... 0.0000e+00 2.0000e+00 1.7256e+03]\n",
      " [2.8000e+01 1.0000e+00 3.3000e+01 ... 0.0000e+00 2.0000e+00 4.4495e+03]\n",
      " ...\n",
      " [1.8000e+01 0.0000e+00 3.6850e+01 ... 0.0000e+00 2.0000e+00 1.6298e+03]\n",
      " [2.1000e+01 0.0000e+00 2.5800e+01 ... 0.0000e+00 3.0000e+00 2.0079e+03]\n",
      " [6.1000e+01 0.0000e+00 2.9070e+01 ... 1.0000e+00 1.0000e+00 2.9141e+04]]\n",
      "Mean and Std\n",
      "[3.9207e+01 5.0523e-01 3.0663e+01 1.0949e+00 2.0478e-01 1.5157e+00\n",
      " 1.3270e+04]\n",
      "[1.4045e+01 4.9997e-01 6.0959e+00 1.2050e+00 4.0354e-01 1.1045e+00\n",
      " 1.2105e+04]\n",
      "Scaling Data: \n",
      "[[-1.4388 -1.0105 -0.4533 ...  1.9706  1.3439  0.2986]\n",
      " [-1.51    0.9896  0.5096 ... -0.5075  0.4385 -0.9537]\n",
      " [-0.798   0.9896  0.3833 ... -0.5075  0.4385 -0.7287]\n",
      " ...\n",
      " [-1.51   -1.0105  1.0149 ... -0.5075  0.4385 -0.9616]\n",
      " [-1.2964 -1.0105 -0.7978 ... -0.5075  1.3439 -0.9304]\n",
      " [ 1.5517 -1.0105 -0.2614 ...  1.9706 -0.4669  1.3111]]\n"
     ]
    }
   ],
   "source": [
    "# your code\n",
    "#The TA said we can use either Min-max normalization OR Z-score normalization. I will use Z-score normalization\n",
    "import numpy as np\n",
    "np.set_printoptions(precision = 4)\n",
    "\n",
    "#Since we converted the categorical features to numerical features, all features are numerical. By the wording of the question, we should then normalize all features\n",
    "df = df.values.astype(dtype = np.float32)\n",
    "print(\"Original Data\")\n",
    "print(df)\n",
    "\n",
    "x_mean = np.mean(df, axis = 0)\n",
    "x_std = np.std(df, axis = 0)\n",
    "\n",
    "print('Mean and Std')\n",
    "print(x_mean)\n",
    "print(x_std)\n",
    "\n",
    "#The formula for the Z-score normalization is each value minus the mean divided by the standard deviation, so that is what we will do\n",
    "df = (df-x_mean)/x_std\n",
    "print(\"Scaling Data: \")\n",
    "print(df)\n",
    "\n",
    "#Note: I ASKED THE TA AND HE SAID TO UPDATE OUR DATAFRAME WITH NORMALIZED NUMBERS\n",
    "#Since we were taught to normalize using numpy, the end result data frame will be an array of numbers without the proper formatting and labels seen with the original dataset"
   ]
  },
  {
   "cell_type": "markdown",
   "metadata": {},
   "source": [
    "### Q8. Save your preprocessed data into a csv file. Submit your code and the preprocessed data."
   ]
  },
  {
   "cell_type": "code",
   "execution_count": 62,
   "metadata": {},
   "outputs": [],
   "source": [
    "#We first need to convert the numpy array back into a pandas dataframe in order to use the to_csv method (to write the preprocessed data into a csv file)\n",
    "dfnew = pd.DataFrame(df, columns = ['age', 'sex', 'bmi', 'children', 'smoker', 'region', 'charges'])\n",
    "dfnew.to_csv('preprocessedData.csv')"
   ]
  }
 ],
 "metadata": {
  "kernelspec": {
   "display_name": "Python 3",
   "language": "python",
   "name": "python3"
  },
  "language_info": {
   "codemirror_mode": {
    "name": "ipython",
    "version": 3
   },
   "file_extension": ".py",
   "mimetype": "text/x-python",
   "name": "python",
   "nbconvert_exporter": "python",
   "pygments_lexer": "ipython3",
   "version": "3.7.9"
  }
 },
 "nbformat": 4,
 "nbformat_minor": 2
}
