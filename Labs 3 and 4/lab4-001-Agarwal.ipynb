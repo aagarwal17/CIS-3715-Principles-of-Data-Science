{
 "cells": [
  {
   "cell_type": "markdown",
   "metadata": {},
   "source": [
    "# Lab 4: Linear Regression"
   ]
  },
  {
   "cell_type": "markdown",
   "metadata": {},
   "source": [
    "In this assignment, we will learn the Linear Regression model. \n",
    "\n",
    "First, please study the given example, which uses linear regression for the house price prediction task. In this example, you will learn how to preprocess data, how to train the model, and how to evaluate the model. \n",
    "\n",
    "Based on the given example and Lab Assignment 3, your task is to use the linear regression model to predict the medical cost for the dataset given in Lab Assignment 3. "
   ]
  },
  {
   "cell_type": "markdown",
   "metadata": {},
   "source": [
    "## 1. Example: Linear Regression for House Price Prediction"
   ]
  },
  {
   "cell_type": "markdown",
   "metadata": {},
   "source": [
    "In this example, we use the house price dataset. It gives the attributes and price of each house. The task is to build a linear regression model to make prediction for the price of the house."
   ]
  },
  {
   "cell_type": "markdown",
   "metadata": {},
   "source": [
    "### 1.1 Preprocess the raw data\n",
    "\n",
    "When given a new dataset, we need to deal with the missing values and categorical features. "
   ]
  },
  {
   "cell_type": "code",
   "execution_count": 5,
   "metadata": {},
   "outputs": [
    {
     "name": "stdout",
     "output_type": "stream",
     "text": [
      "longitude             0\n",
      "latitude              0\n",
      "housing_median_age    0\n",
      "total_rooms           0\n",
      "total_bedrooms        0\n",
      "population            0\n",
      "households            0\n",
      "median_income         0\n",
      "median_house_value    0\n",
      "ocean_proximity       0\n",
      "dtype: int64\n",
      "<class 'pandas.core.frame.DataFrame'>\n",
      "RangeIndex: 20640 entries, 0 to 20639\n",
      "Data columns (total 10 columns):\n",
      " #   Column              Non-Null Count  Dtype  \n",
      "---  ------              --------------  -----  \n",
      " 0   longitude           20640 non-null  float64\n",
      " 1   latitude            20640 non-null  float64\n",
      " 2   housing_median_age  20640 non-null  int64  \n",
      " 3   total_rooms         20640 non-null  int64  \n",
      " 4   total_bedrooms      20640 non-null  float64\n",
      " 5   population          20640 non-null  int64  \n",
      " 6   households          20640 non-null  int64  \n",
      " 7   median_income       20640 non-null  float64\n",
      " 8   median_house_value  20640 non-null  int64  \n",
      " 9   ocean_proximity     20640 non-null  int32  \n",
      "dtypes: float64(4), int32(1), int64(5)\n",
      "memory usage: 1.5 MB\n",
      "None\n"
     ]
    }
   ],
   "source": [
    "import pandas as pd\n",
    "import numpy as np\n",
    "from sklearn.preprocessing import LabelEncoder\n",
    "from sklearn.model_selection import train_test_split\n",
    "from sklearn.preprocessing import StandardScaler\n",
    "from sklearn.linear_model import LinearRegression, Ridge, Lasso\n",
    "from sklearn.metrics import mean_absolute_error,mean_squared_error\n",
    "import matplotlib.pyplot as plt\n",
    "\n",
    "\n",
    "df = pd.read_csv('housing.csv')\n",
    "\n",
    "# 0. fill in missing values\n",
    "mean_val = df['total_bedrooms'].mean()\n",
    "df['total_bedrooms'] = df['total_bedrooms'].fillna(mean_val)\n",
    "print(df.isnull().sum())\n",
    "\n",
    "# 1. convert categorical features to numerical values\n",
    "labelencoder = LabelEncoder()\n",
    "df['ocean_proximity'] = labelencoder.fit_transform(df['ocean_proximity'])\n",
    "print(df.info())"
   ]
  },
  {
   "cell_type": "markdown",
   "metadata": {},
   "source": [
    "### 1.2 Split the preprocessed dataset into training set and testing set\n",
    "\n",
    "For the supervised learning, we need to split the dataset into the training set and test set. The training set is used to learn model parameters and the testing set is used to evaluate the learned model. \n",
    "\n",
    "Note that the testing set is NOT allowed to be used in the training phase. "
   ]
  },
  {
   "cell_type": "code",
   "execution_count": 6,
   "metadata": {},
   "outputs": [
    {
     "name": "stdout",
     "output_type": "stream",
     "text": [
      "(16512, 9)\n",
      "(4128, 9)\n"
     ]
    }
   ],
   "source": [
    "# 2. split samples\n",
    "house_fea = df.drop('median_house_value', axis=1).values\n",
    "house_price = df['median_house_value'].values\n",
    "house_price = house_price / np.max(house_price)\n",
    "\n",
    "X_train,X_test,y_train,y_test = train_test_split(house_fea,\n",
    "                                                 house_price,\n",
    "                                                 test_size=0.2,\n",
    "                                                 random_state=42)\n",
    "print(X_train.shape)\n",
    "print(X_test.shape)\n",
    "\n",
    "\n",
    "# normalize features\n",
    "normalizer = StandardScaler()\n",
    "X_train = normalizer.fit_transform(X_train)\n",
    "X_test = normalizer.transform(X_test)"
   ]
  },
  {
   "cell_type": "markdown",
   "metadata": {},
   "source": [
    "### 1.3 Train the linear regression model \n",
    "\n",
    "$\\min_{w}\\frac{1}{n}\\|y-X\\mathbf{w}\\|_2^2$\n",
    "\n",
    "\n",
    "\n",
    "Here, we use the training set to learn the model parameter $\\mathbf{w}=(w_0, w_1, w_2, \\cdots, w_d)$. \n",
    "\n",
    "Then, we compute MAE, MSE, and RMSE to see how well the learned model fit the training set. "
   ]
  },
  {
   "cell_type": "code",
   "execution_count": 7,
   "metadata": {},
   "outputs": [
    {
     "name": "stdout",
     "output_type": "stream",
     "text": [
      "bias is 0.41438855869860675\n",
      "coefficients  is [-0.17170955 -0.18189176  0.02984855 -0.0353864   0.09753502 -0.08776816\n",
      "  0.03520256  0.15428789 -0.00090304]\n",
      "prediction for training set:\n",
      "MAE is: 0.10125365457873205\n",
      "MSE is: 0.0192437559440504\n",
      "RMSE is: 0.13872186541439818\n"
     ]
    }
   ],
   "source": [
    "#3. train the model\n",
    "lr = LinearRegression()\n",
    "\n",
    "lr.fit(X_train,y_train)\n",
    "\n",
    "print(\"bias is \"+str(lr.intercept_))\n",
    "print(\"coefficients  is \"+str(lr.coef_))\n",
    "\n",
    "y_train_pred = lr.predict(X_train)\n",
    "\n",
    "mae = mean_absolute_error(y_train_pred,y_train)\n",
    "mse = mean_squared_error(y_train_pred,y_train)\n",
    "rmse = np.sqrt(mse)\n",
    "\n",
    "print('prediction for training set:')\n",
    "print('MAE is: {}'.format(mae))\n",
    "print('MSE is: {}'.format(mse))\n",
    "print('RMSE is: {}'.format(rmse))\n"
   ]
  },
  {
   "cell_type": "markdown",
   "metadata": {},
   "source": [
    "### 1.4 Evaluate the linear regression model\n",
    "\n",
    "After obtaining the model parameter $\\mathbf{w}=(w_0, w_1, w_2, \\cdots, w_d)$, the linear regression model is determined. Then, we need to evaluate this model to see how well this model generaizes on the testing set. "
   ]
  },
  {
   "cell_type": "code",
   "execution_count": 8,
   "metadata": {},
   "outputs": [
    {
     "name": "stdout",
     "output_type": "stream",
     "text": [
      "prediction for testing set:\n",
      "MAE is: 0.1036935483109797\n",
      "MSE is: 0.020220019584503236\n",
      "RMSE is: 0.14219711524677017\n"
     ]
    },
    {
     "data": {
      "image/png": "[encoded data removed]",
      "text/plain": [
       "<Figure size 432x288 with 1 Axes>"
      ]
     },
     "metadata": {
      "needs_background": "light"
     },
     "output_type": "display_data"
    }
   ],
   "source": [
    "#4. evaluate the model\n",
    "y_test_pred = lr.predict(X_test)\n",
    "\n",
    "mae = mean_absolute_error(y_test_pred,y_test)\n",
    "mse = mean_squared_error(y_test_pred,y_test)\n",
    "rmse = np.sqrt(mse)\n",
    "\n",
    "print('prediction for testing set:')\n",
    "print('MAE is: {}'.format(mae))\n",
    "print('MSE is: {}'.format(mse))\n",
    "print('RMSE is: {}'.format(rmse))\n",
    "\n",
    "\n",
    "labels = ['House1', 'House2', 'House3', 'House4', 'House5']\n",
    "x = np.arange(len(labels))  # the label locations\n",
    "width = 0.35  # the width of the bars\n",
    "\n",
    "fig, ax = plt.subplots()\n",
    "rects1 = ax.bar(x - width/2, y_test[0:5], width, label='ground truth')\n",
    "rects2 = ax.bar(x + width/2, y_test_pred[0:5], width, label='prediction')\n",
    "\n",
    "ax.set_ylabel('Price')\n",
    "ax.set_xticks(x)\n",
    "ax.set_xticklabels(labels)\n",
    "ax.legend()\n",
    "\n",
    "plt.show()\n"
   ]
  },
  {
   "cell_type": "markdown",
   "metadata": {},
   "source": [
    "## 2. Task: Linear Regression for Medical Cost Prediction\n",
    "\n",
    "Following the given example, build a linear regression model for [the insurance dataset](./insurance.csv) to predict the medical cost.  \n"
   ]
  },
  {
   "cell_type": "markdown",
   "metadata": {},
   "source": [
    "### 2.1 Preprocess the raw data\n",
    "\n",
    "Based on your Lab Assignment 3, deal with the missing values and categorical features. "
   ]
  },
  {
   "cell_type": "code",
   "execution_count": 32,
   "metadata": {},
   "outputs": [
    {
     "data": {
      "text/plain": [
       "age         0\n",
       "sex         0\n",
       "bmi         0\n",
       "children    0\n",
       "smoker      0\n",
       "region      0\n",
       "charges     0\n",
       "dtype: int64"
      ]
     },
     "execution_count": 32,
     "metadata": {},
     "output_type": "execute_result"
    }
   ],
   "source": [
    "#When given a dataset, we must first deal with the missing values and any categorical features\n",
    "#Much of this work has already been completed in lab 3 and is redone here:\n",
    "\n",
    "#I understand that we don't need to import these here because we already did the import above, but I just wanted to show you that these are the packages that will be used!\n",
    "import pandas as pd\n",
    "import numpy as np\n",
    "from sklearn.preprocessing import LabelEncoder\n",
    "from sklearn.model_selection import train_test_split\n",
    "from sklearn.preprocessing import StandardScaler\n",
    "from sklearn.linear_model import LinearRegression, Ridge, Lasso\n",
    "from sklearn.metrics import mean_absolute_error,mean_squared_error\n",
    "import matplotlib.pyplot as plt\n",
    "\n",
    "df = pd.read_csv(\"insurance.csv\")\n",
    "\n",
    "#First, we will determine whether there are any missing values:\n",
    "df.isnull().sum()\n",
    "#Since the sum of the null values for each feature is zero for every feature, there are no missing values in this dataset\n",
    "#We do not need to fill in any missing values!"
   ]
  },
  {
   "cell_type": "code",
   "execution_count": 33,
   "metadata": {},
   "outputs": [
    {
     "name": "stdout",
     "output_type": "stream",
     "text": [
      "<class 'pandas.core.frame.DataFrame'>\n",
      "RangeIndex: 1338 entries, 0 to 1337\n",
      "Data columns (total 7 columns):\n",
      " #   Column    Non-Null Count  Dtype  \n",
      "---  ------    --------------  -----  \n",
      " 0   age       1338 non-null   int64  \n",
      " 1   sex       1338 non-null   object \n",
      " 2   bmi       1338 non-null   float64\n",
      " 3   children  1338 non-null   int64  \n",
      " 4   smoker    1338 non-null   object \n",
      " 5   region    1338 non-null   object \n",
      " 6   charges   1338 non-null   float64\n",
      "dtypes: float64(2), int64(2), object(3)\n",
      "memory usage: 73.3+ KB\n",
      "male      676\n",
      "female    662\n",
      "Name: sex, dtype: int64\n",
      "1    676\n",
      "0    662\n",
      "Name: sex, dtype: int64\n",
      "no     1064\n",
      "yes     274\n",
      "Name: smoker, dtype: int64\n",
      "0    1064\n",
      "1     274\n",
      "Name: smoker, dtype: int64\n",
      "southeast    364\n",
      "southwest    325\n",
      "northwest    325\n",
      "northeast    324\n",
      "Name: region, dtype: int64\n",
      "2    364\n",
      "3    325\n",
      "1    325\n",
      "0    324\n",
      "Name: region, dtype: int64\n",
      "<class 'pandas.core.frame.DataFrame'>\n",
      "RangeIndex: 1338 entries, 0 to 1337\n",
      "Data columns (total 7 columns):\n",
      " #   Column    Non-Null Count  Dtype  \n",
      "---  ------    --------------  -----  \n",
      " 0   age       1338 non-null   int64  \n",
      " 1   sex       1338 non-null   int32  \n",
      " 2   bmi       1338 non-null   float64\n",
      " 3   children  1338 non-null   int64  \n",
      " 4   smoker    1338 non-null   int32  \n",
      " 5   region    1338 non-null   int32  \n",
      " 6   charges   1338 non-null   float64\n",
      "dtypes: float64(2), int32(3), int64(2)\n",
      "memory usage: 57.6 KB\n",
      "None\n"
     ]
    }
   ],
   "source": [
    "#Next, we will convert the categorical features to numerical values\n",
    "#To determine which features are categorical, we will use the following method:\n",
    "df.info()\n",
    "#From this, we determine that the categorical features are sex, smoker, and region\n",
    "\n",
    "#I will use label encoding, where each categorical feature is converted into an integer value\n",
    "#For gender:\n",
    "#This print statement shows the initial labels and counts for sex\n",
    "print(df['sex'].value_counts())\n",
    "labelencoderSex = LabelEncoder()\n",
    "df['sex'] = labelencoderSex.fit_transform(df['sex'])\n",
    "#This print statement shows that male is now represented by 1 and female 0\n",
    "print(df['sex'].value_counts())\n",
    "\n",
    "#For smoker:\n",
    "#This print statement shows the initial labels and counts for smoker\n",
    "print(df['smoker'].value_counts())\n",
    "labelencoderSmoker = LabelEncoder()\n",
    "df['smoker'] = labelencoderSmoker.fit_transform(df['smoker'])\n",
    "#This print statement shows that yes is now represented by 1 and no 0\n",
    "print(df['smoker'].value_counts())\n",
    "\n",
    "#For region:\n",
    "#This print statement shows the initial labels and counts for region\n",
    "print(df['region'].value_counts())\n",
    "labelencoderRegion = LabelEncoder()\n",
    "df['region'] = labelencoderRegion.fit_transform(df['region'])\n",
    "#This print statement shows that southeast is now represented by 2, soutwest by 3, northwest by 1, and northeast by 0\n",
    "print(df['region'].value_counts())\n",
    "\n",
    "print(df.info())\n",
    "#From this print statement, we see all features are now numerical"
   ]
  },
  {
   "cell_type": "code",
   "execution_count": 34,
   "metadata": {
    "scrolled": true
   },
   "outputs": [
    {
     "data": {
      "image/png": "[encoded data removed]",
      "text/plain": [
       "<Figure size 432x288 with 1 Axes>"
      ]
     },
     "metadata": {
      "needs_background": "light"
     },
     "output_type": "display_data"
    }
   ],
   "source": [
    "#We can visualize the numerical feature of charges with a histogram plot to see the distribution, which would be useful for missing values\n",
    "plt.hist(df['charges'].values, 100)\n",
    "plt.show()\n",
    "#You could also make the plot using bins (commented out for now):\n",
    "#df['charges'].hist(bins = 50, figsize = (20,15))\n",
    "#plt.show()\n",
    "\n",
    "#If we needed to fill in missing values for charges, we would NOT want to use mean but median because this is a long-tail distribution"
   ]
  },
  {
   "cell_type": "markdown",
   "metadata": {},
   "source": [
    "### 1.2 Split the preprocessed dataset into training set and testing set\n",
    "\n",
    "Use 80% of samples as the training set and 20% of samples as the testing set"
   ]
  },
  {
   "cell_type": "code",
   "execution_count": 35,
   "metadata": {},
   "outputs": [
    {
     "name": "stdout",
     "output_type": "stream",
     "text": [
      "(1070, 6)\n",
      "(268, 6)\n"
     ]
    }
   ],
   "source": [
    "#The dataset will be split into a training set with 80% of samples and a test set with 20% of samples\n",
    "#The training set is used to learn model parameters and the testing set is used to evaluate the learned model\n",
    "\n",
    "#Splitting the samples:\n",
    "insurance_fea = df.drop('charges', axis=1).values\n",
    "insurance_medical_cost = df['charges'].values\n",
    "#insurance_medical_cost = insurance_medical_cost/np.max(insurance_medical_cost)\n",
    "\n",
    "X_train, X_test, Y_train, Y_test = train_test_split(insurance_fea,\n",
    "                                                 insurance_medical_cost,\n",
    "                                                 test_size=0.2,\n",
    "                                                 random_state=42)\n",
    "print(X_train.shape)\n",
    "print(X_test.shape)\n",
    "#It makes sense that there are 1070 values in the training set because this is 80% of the total number of values.\n",
    "#It then also makes sense that there are 268 values in the testing set because this is 20% of the total number of values.\n",
    "\n",
    "\n",
    "#Normalizing the features:\n",
    "normalizer = StandardScaler()\n",
    "X_train = normalizer.fit_transform(X_train)\n",
    "X_test = normalizer.transform(X_test)\n"
   ]
  },
  {
   "cell_type": "markdown",
   "metadata": {},
   "source": [
    "### 1.3 Train the linear regression model \n",
    "\n",
    "Use the Linear regression model to do prediction\n",
    "\n",
    "$\\min_{w}\\frac{1}{n}\\|y-X\\mathbf{w}\\|_2^2$\n",
    "\n",
    "Please output the learned model parameter $\\mathbf{w}$ and see how the learned model fit the training set. "
   ]
  },
  {
   "cell_type": "code",
   "execution_count": 36,
   "metadata": {},
   "outputs": [
    {
     "name": "stdout",
     "output_type": "stream",
     "text": [
      "For learned model parameter w: \n",
      "Bias is 13346.08973636448\n",
      "Coefficients are [ 3.61610865e+03 -9.39295411e+00  2.02830858e+03  5.16662566e+02\n",
      "  9.55714338e+03 -3.02387980e+02]\n",
      "Prediction for the training set:\n",
      "MAE is: 4208.762029186575\n",
      "MSE is: 37280663.22256598\n",
      "RMSE is: 6105.789320191615\n"
     ]
    }
   ],
   "source": [
    "#Training the model:\n",
    "\n",
    "lr = LinearRegression()\n",
    "\n",
    "lr.fit(X_train,Y_train)\n",
    "\n",
    "print(\"For learned model parameter w: \")\n",
    "print(\"Bias is \" + str(lr.intercept_))\n",
    "print(\"Coefficients are \" + str(lr.coef_))\n",
    "\n",
    "Y_train_pred = lr.predict(X_train)\n",
    "\n",
    "mae = mean_absolute_error(Y_train_pred, Y_train)\n",
    "mse = mean_squared_error(Y_train_pred, Y_train)\n",
    "rmse = np.sqrt(mse)\n",
    "\n",
    "\n",
    "print('Prediction for the training set:')\n",
    "print('MAE is: {}'.format(mae))\n",
    "print('MSE is: {}'.format(mse))\n",
    "print('RMSE is: {}'.format(rmse))"
   ]
  },
  {
   "cell_type": "markdown",
   "metadata": {},
   "source": [
    "### 1.4 Evaluate the linear regression model\n",
    "\n",
    "\n",
    "Evaluate the learned model to see how well this model generalizes on the testing set. "
   ]
  },
  {
   "cell_type": "code",
   "execution_count": 37,
   "metadata": {},
   "outputs": [
    {
     "name": "stdout",
     "output_type": "stream",
     "text": [
      "Prediction for the testing set:\n",
      "MAE is: 4186.508898366437\n",
      "MSE is: 33635210.43117844\n",
      "RMSE is: 5799.587091438359\n"
     ]
    },
    {
     "data": {
      "image/png": "[encoded data removed]",
      "text/plain": [
       "<Figure size 432x288 with 1 Axes>"
      ]
     },
     "metadata": {
      "needs_background": "light"
     },
     "output_type": "display_data"
    }
   ],
   "source": [
    "#Evaluating the model to see how well it generalizes on the testing set:\n",
    "\n",
    "Y_test_pred = lr.predict(X_test)\n",
    "\n",
    "mae = mean_absolute_error(Y_test_pred,Y_test)\n",
    "mse = mean_squared_error(Y_test_pred,Y_test)\n",
    "rmse = np.sqrt(mse)\n",
    "\n",
    "print('Prediction for the testing set:')\n",
    "print('MAE is: {}'.format(mae))\n",
    "print('MSE is: {}'.format(mse))\n",
    "print('RMSE is: {}'.format(rmse))\n",
    "\n",
    "labels = ['Person1', 'Person2', 'Person3', 'Person4', 'Person5', 'Person6', 'Person7']\n",
    "x = np.arange(len(labels))  # the label locations\n",
    "width = 0.35  # the width of the bars\n",
    "\n",
    "fig, ax = plt.subplots()\n",
    "rects1 = ax.bar(x - width/2, Y_test[0:7], width, label='Ground Truth')\n",
    "rects2 = ax.bar(x + width/2, Y_test_pred[0:7], width, label='Prediction')\n",
    "\n",
    "ax.set_xlabel(\"Data Sample\")\n",
    "ax.set_ylabel('Medical Cost')\n",
    "ax.set_xticks(x)\n",
    "ax.set_xticklabels(labels)\n",
    "ax.legend()\n",
    "\n",
    "plt.show()\n",
    "#From this plot, we can see the learned model does well to generalize on the testing set."
   ]
  },
  {
   "cell_type": "markdown",
   "metadata": {},
   "source": [
    "### 1.5 Use the ridge regression model to do prediction\n",
    "\n",
    "$\\min_{w}\\frac{1}{n}\\|y-Xw\\|_2^2 + \\lambda \\|w\\|_2^2$\n",
    "\n",
    "* 1.5.1 Compare its performance on the testing set with that of the standard linear regression model $\\min_{w}\\frac{1}{n}\\|y-Xw\\|_2^2$\n",
    "\n",
    "* 1.5.2 Use different $\\lambda$ to see how it affects the performance of the ridge regression  model on the testing set\n"
   ]
  },
  {
   "cell_type": "code",
   "execution_count": 54,
   "metadata": {},
   "outputs": [
    {
     "name": "stdout",
     "output_type": "stream",
     "text": [
      "For learned model parameter w: \n",
      "Bias is 13346.08973636448\n",
      "Coefficients are [ 3.61574230e+03 -9.32664271e+00  2.02814938e+03  5.16648051e+02\n",
      "  9.55622670e+03 -3.02334899e+02]\n",
      "Prediction for the training set:\n",
      "MAE is: 4208.877758072278\n",
      "MSE is: 37280664.197490774\n",
      "RMSE is: 6105.789400027713\n"
     ]
    }
   ],
   "source": [
    "#Training the model with Ridge Regression:\n",
    "\n",
    "rr = Ridge(alpha = 0.1)\n",
    "\n",
    "rr.fit(X_train,Y_train)\n",
    "\n",
    "print(\"For learned model parameter w: \")\n",
    "print(\"Bias is \" + str(rr.intercept_))\n",
    "print(\"Coefficients are \" + str(rr.coef_))\n",
    "\n",
    "Y_train_pred2 = rr.predict(X_train)\n",
    "\n",
    "mae2 = mean_absolute_error(Y_train_pred2, Y_train)\n",
    "mse2 = mean_squared_error(Y_train_pred2, Y_train)\n",
    "rmse2 = np.sqrt(mse2)\n",
    "\n",
    "\n",
    "print('Prediction for the training set:')\n",
    "print('MAE is: {}'.format(mae2))\n",
    "print('MSE is: {}'.format(mse2))\n",
    "print('RMSE is: {}'.format(rmse2))\n",
    "\n",
    "#Using Ridge Regression the prediction values for the training set for MAE, MSE, and RMSE are almost idential for the values for Linear Regression"
   ]
  },
  {
   "cell_type": "code",
   "execution_count": 55,
   "metadata": {},
   "outputs": [
    {
     "name": "stdout",
     "output_type": "stream",
     "text": [
      "Prediction for the testing set:\n",
      "MAE is: 4186.655318661211\n",
      "MSE is: 33635862.373640984\n",
      "RMSE is: 5799.643297103796\n"
     ]
    },
    {
     "data": {
      "image/png": "[encoded data removed]",
      "text/plain": [
       "<Figure size 432x288 with 1 Axes>"
      ]
     },
     "metadata": {
      "needs_background": "light"
     },
     "output_type": "display_data"
    },
    {
     "name": "stdout",
     "output_type": "stream",
     "text": [
      "Percent Difference between Ridge Regression and Linear Regression: \n",
      "Percent Difference for MAE is: 0.0034973706708360973%\n",
      "Percent Difference for MSE is: 0.0019382549894297403%\n",
      "Percent Difference for RMSE is: 0.0009691274947455065%\n"
     ]
    }
   ],
   "source": [
    "#Evaluating the model to see how well it generalizes on the testing set:\n",
    "\n",
    "Y_test_pred2 = rr.predict(X_test)\n",
    "\n",
    "mae2 = mean_absolute_error(Y_test_pred2,Y_test)\n",
    "mse2 = mean_squared_error(Y_test_pred2,Y_test)\n",
    "rmse2 = np.sqrt(mse2)\n",
    "\n",
    "print('Prediction for the testing set:')\n",
    "print('MAE is: {}'.format(mae2))\n",
    "print('MSE is: {}'.format(mse2))\n",
    "print('RMSE is: {}'.format(rmse2))\n",
    "\n",
    "labels = ['Person1', 'Person2', 'Person3', 'Person4', 'Person5', 'Person6', 'Person7']\n",
    "x = np.arange(len(labels))  # the label locations\n",
    "width = 0.35  # the width of the bars\n",
    "\n",
    "fig, ax = plt.subplots()\n",
    "rects1 = ax.bar(x - width/2, Y_test[0:7], width, label='Ground Truth')\n",
    "rects2 = ax.bar(x + width/2, Y_test_pred2[0:7], width, label='Prediction')\n",
    "\n",
    "ax.set_title(\"Ridge Regression\")\n",
    "ax.set_xlabel(\"Data Sample\")\n",
    "ax.set_ylabel('Medical Cost')\n",
    "ax.set_xticks(x)\n",
    "ax.set_xticklabels(labels)\n",
    "ax.legend()\n",
    "\n",
    "plt.show()\n",
    "#From this plot, we can see the learned model does well to generalize on the testing set.\n",
    "\n",
    "#1.5.1 Compare its performance on the testing set with that of the standard linear regression model  min𝑤1𝑛‖𝑦−𝑋𝑤‖22:\n",
    "#The Ridge Regression and Linear Regression produce almost identifical adults with alpha =0.1, so both perform well. \n",
    "#To compare the ridge regression and and linear regression models, I will use percent difference calculations:\n",
    "#Percent Difference = (|Value 1 – Value 2|)/([Value 1 + Value 2]/2) * 100%\n",
    "\n",
    "print(\"Percent Difference between Ridge Regression and Linear Regression: \")\n",
    "maepd = ( (abs(mae - mae2))/((mae + mae2)/2) ) * 100\n",
    "msepd = ( (abs(mse - mse2))/((mse + mse2)/2) ) * 100\n",
    "rmsepd = ( (abs(rmse - rmse2))/((rmse + rmse2)/2) ) * 100\n",
    "print(\"Percent Difference for MAE is: {}%\".format(maepd))\n",
    "print(\"Percent Difference for MSE is: {}%\".format(msepd))\n",
    "print(\"Percent Difference for RMSE is: {}%\".format(rmsepd))\n",
    "#Since these percent difference values are so small, one can say that ridge regression and linear regression perform almost identically\n",
    "\n",
    "\n",
    "#1.5.2 Use different  𝜆  to see how it affects the performance of the ridge regression model on the testing set\n",
    "#I was unable to show the work of me changing the alpha values (and the TA said that was perfectly fine).\n",
    "#It would not print out the updates error values for the new alpha values.\n",
    "#However, by testing different lambdas, one notices that as lambda values increases, the performance of the ridge regression model on the testing set worsens.\n",
    "#This is because if one's lambda value is too high, the model will be simple, but they run the risk of underfitting the data. It will not learn enough about the training data to make useful predictions\n",
    "#Lambda values becoming incrementally smaller than 0.1 were also tested. \n",
    "#Once the lambda values became extremely small, the model became more complex and ran the risk of overfitting the data."
   ]
  }
 ],
 "metadata": {
  "kernelspec": {
   "display_name": "Python 3",
   "language": "python",
   "name": "python3"
  },
  "language_info": {
   "codemirror_mode": {
    "name": "ipython",
    "version": 3
   },
   "file_extension": ".py",
   "mimetype": "text/x-python",
   "name": "python",
   "nbconvert_exporter": "python",
   "pygments_lexer": "ipython3",
   "version": "3.7.9"
  }
 },
 "nbformat": 4,
 "nbformat_minor": 2
}
